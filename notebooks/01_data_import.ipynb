{
 "cells": [
  {
   "cell_type": "markdown",
   "id": "84850b69-f6fe-4068-811a-7495250b91bb",
   "metadata": {},
   "source": [
    "# Libraries"
   ]
  },
  {
   "cell_type": "code",
   "execution_count": 1,
   "id": "dca70d7e-5bbc-4a69-82f5-2ccc226d646a",
   "metadata": {},
   "outputs": [],
   "source": [
    "import pandas as pd\n",
    "import rasa.shared.nlu.training_data.loading as nlu_loading"
   ]
  },
  {
   "cell_type": "code",
   "execution_count": 2,
   "id": "59876eca-aeb4-4792-9180-01ec332a0f2f",
   "metadata": {},
   "outputs": [],
   "source": [
    "pd.set_option('display.max_rows', None)\n",
    "pd.set_option('display.max_colwidth', None)"
   ]
  },
  {
   "cell_type": "markdown",
   "id": "45c1a259-cd5d-47bb-b1f5-b761810e10f1",
   "metadata": {},
   "source": [
    "# Data"
   ]
  },
  {
   "cell_type": "markdown",
   "id": "3f396833-787c-4fcd-9ff9-2ee24799f7fd",
   "metadata": {},
   "source": [
    "Load the training data:"
   ]
  },
  {
   "cell_type": "code",
   "execution_count": 3,
   "id": "b45732f1-7cc2-4114-9b8e-dc61f2096e49",
   "metadata": {},
   "outputs": [],
   "source": [
    "train_data = nlu_loading.load_data(\"./data/nlu.yml\")"
   ]
  },
  {
   "cell_type": "markdown",
   "id": "46bea8f5-fec6-4a9b-bd84-eb8356e256b5",
   "metadata": {},
   "source": [
    "`train_data` is a list of messages:"
   ]
  },
  {
   "cell_type": "code",
   "execution_count": 4,
   "id": "3e024cd0-0354-45fe-be06-91e79138b7e3",
   "metadata": {},
   "outputs": [
    {
     "name": "stdout",
     "output_type": "stream",
     "text": [
      "{'text': 'hey', 'intent': 'greet'}\n",
      "{'text': 'hello', 'intent': 'greet'}\n",
      "{'text': 'hi', 'intent': 'greet'}\n",
      "{'text': 'hello there', 'intent': 'greet'}\n",
      "{'text': 'good morning', 'intent': 'greet'}\n"
     ]
    }
   ],
   "source": [
    "for message in train_data.intent_examples[:5]:\n",
    "    print(message.as_dict())"
   ]
  },
  {
   "cell_type": "markdown",
   "id": "55aabe8f-9092-4899-83d4-a472db433408",
   "metadata": {},
   "source": [
    "Create a data frame out of `train_data`:"
   ]
  },
  {
   "cell_type": "code",
   "execution_count": 5,
   "id": "a1db65af-4004-4376-be83-1dd798f0c5c0",
   "metadata": {},
   "outputs": [
    {
     "data": {
      "text/html": [
       "<div>\n",
       "<style scoped>\n",
       "    .dataframe tbody tr th:only-of-type {\n",
       "        vertical-align: middle;\n",
       "    }\n",
       "\n",
       "    .dataframe tbody tr th {\n",
       "        vertical-align: top;\n",
       "    }\n",
       "\n",
       "    .dataframe thead th {\n",
       "        text-align: right;\n",
       "    }\n",
       "</style>\n",
       "<table border=\"1\" class=\"dataframe\">\n",
       "  <thead>\n",
       "    <tr style=\"text-align: right;\">\n",
       "      <th></th>\n",
       "      <th>text</th>\n",
       "      <th>intent</th>\n",
       "    </tr>\n",
       "  </thead>\n",
       "  <tbody>\n",
       "    <tr>\n",
       "      <th>0</th>\n",
       "      <td>hey</td>\n",
       "      <td>greet</td>\n",
       "    </tr>\n",
       "    <tr>\n",
       "      <th>1</th>\n",
       "      <td>hello</td>\n",
       "      <td>greet</td>\n",
       "    </tr>\n",
       "    <tr>\n",
       "      <th>2</th>\n",
       "      <td>hi</td>\n",
       "      <td>greet</td>\n",
       "    </tr>\n",
       "    <tr>\n",
       "      <th>3</th>\n",
       "      <td>hello there</td>\n",
       "      <td>greet</td>\n",
       "    </tr>\n",
       "    <tr>\n",
       "      <th>4</th>\n",
       "      <td>good morning</td>\n",
       "      <td>greet</td>\n",
       "    </tr>\n",
       "  </tbody>\n",
       "</table>\n",
       "</div>"
      ],
      "text/plain": [
       "           text intent\n",
       "0           hey  greet\n",
       "1         hello  greet\n",
       "2            hi  greet\n",
       "3   hello there  greet\n",
       "4  good morning  greet"
      ]
     },
     "execution_count": 5,
     "metadata": {},
     "output_type": "execute_result"
    }
   ],
   "source": [
    "messages = [m.as_dict() for m in train_data.intent_examples]\n",
    "df = pd.DataFrame(messages)\n",
    "df.head(5)"
   ]
  }
 ],
 "metadata": {
  "kernelspec": {
   "display_name": "Python 3 (ipykernel)",
   "language": "python",
   "name": "python3"
  },
  "language_info": {
   "codemirror_mode": {
    "name": "ipython",
    "version": 3
   },
   "file_extension": ".py",
   "mimetype": "text/x-python",
   "name": "python",
   "nbconvert_exporter": "python",
   "pygments_lexer": "ipython3",
   "version": "3.8.10"
  }
 },
 "nbformat": 4,
 "nbformat_minor": 5
}
